{
 "cells": [
  {
   "cell_type": "code",
   "execution_count": 1,
   "id": "088c6566",
   "metadata": {},
   "outputs": [
    {
     "data": {
      "text/html": [
       "\n",
       "        <div>\n",
       "            <p><b>SparkContext</b></p>\n",
       "\n",
       "            <p><a href=\"http://192.168.1.67:4040\">Spark UI</a></p>\n",
       "\n",
       "            <dl>\n",
       "              <dt>Version</dt>\n",
       "                <dd><code>v3.3.1</code></dd>\n",
       "              <dt>Master</dt>\n",
       "                <dd><code>local[*]</code></dd>\n",
       "              <dt>AppName</dt>\n",
       "                <dd><code>PySparkShell</code></dd>\n",
       "            </dl>\n",
       "        </div>\n",
       "        "
      ],
      "text/plain": [
       "<SparkContext master=local[*] appName=PySparkShell>"
      ]
     },
     "execution_count": 1,
     "metadata": {},
     "output_type": "execute_result"
    }
   ],
   "source": [
    "spark.sparkContext"
   ]
  },
  {
   "cell_type": "code",
   "execution_count": 23,
   "id": "347f66b0",
   "metadata": {},
   "outputs": [
    {
     "data": {
      "text/html": [
       "<style>pre { white-space: pre !important; }</style>"
      ],
      "text/plain": [
       "<IPython.core.display.HTML object>"
      ]
     },
     "metadata": {},
     "output_type": "display_data"
    }
   ],
   "source": [
    "from IPython.core.display import HTML\n",
    "display(HTML(\"<style>pre { white-space: pre !important; }</style>\"))\n",
    "data_path = os.path.join('..', 'class_16')"
   ]
  },
  {
   "cell_type": "code",
   "execution_count": 29,
   "id": "6d955eb1",
   "metadata": {},
   "outputs": [
    {
     "name": "stderr",
     "output_type": "stream",
     "text": [
      "                                                                                \r"
     ]
    }
   ],
   "source": [
    "#movies = spark.read.csv(os.path.join(data_path, 'movies.csv'), header=True, inferSchema=True)\n",
    "tags = spark.read.csv(os.path.join(data_path, 'tags.csv'), header=True, inferSchema=True)\n",
    "ratings = spark.read.csv(os.path.join(data_path, 'ratings.csv'), header=True, inferSchema=True)"
   ]
  },
  {
   "cell_type": "code",
   "execution_count": 32,
   "id": "b38f7897",
   "metadata": {},
   "outputs": [
    {
     "name": "stdout",
     "output_type": "stream",
     "text": [
      "+------+-------+---------------+----------+\n",
      "|userId|movieId|            tag| timestamp|\n",
      "+------+-------+---------------+----------+\n",
      "|    20|   4306|     Dreamworks|1459855607|\n",
      "|    20|  96079|      nostalgic|1407930249|\n",
      "|    79|   1057|         comedy|1483577176|\n",
      "|    79|   1265|      feel-good|1483578282|\n",
      "|    79|   1265|      time loop|1483578274|\n",
      "|    79|   1784|      feel-good|1483577223|\n",
      "|    79|   3481|          funny|1486673571|\n",
      "|    79|   4823|    john cusack|1483577733|\n",
      "|    79|   4878|    stereotypes|1487184022|\n",
      "|    79|   4973| modern fantasy|1487184113|\n",
      "|    79|   4973|       stylized|1487184057|\n",
      "|    79|   7361|      dreamlike|1483576002|\n",
      "|    79|   7361|    imagination|1483576038|\n",
      "|    79|  44191|        torture|1487183453|\n",
      "|    79|  60069|     love story|1483660138|\n",
      "|    79|  68954|          funny|1483660119|\n",
      "|    79|  69757|           love|1483576100|\n",
      "|    79|  69757|meaning of love|1483576105|\n",
      "|    79|  86882|    Owen Wilson|1483576198|\n",
      "|    79|  86882|          witty|1483576172|\n",
      "+------+-------+---------------+----------+\n",
      "only showing top 20 rows\n",
      "\n"
     ]
    }
   ],
   "source": [
    "# \n",
    "s_tags = tags.sample(fraction=.1, seed=123454321)\n",
    "s_tags.show()"
   ]
  },
  {
   "cell_type": "code",
   "execution_count": 42,
   "id": "26a5777b",
   "metadata": {},
   "outputs": [
    {
     "name": "stdout",
     "output_type": "stream",
     "text": [
      "22/11/23 20:36:01 WARN WindowExec: No Partition Defined for Window operation! Moving all data to a single partition, this can cause serious performance degradation.\n",
      "22/11/23 20:36:01 WARN WindowExec: No Partition Defined for Window operation! Moving all data to a single partition, this can cause serious performance degradation.\n",
      "22/11/23 20:36:01 WARN WindowExec: No Partition Defined for Window operation! Moving all data to a single partition, this can cause serious performance degradation.\n",
      "22/11/23 20:36:01 WARN WindowExec: No Partition Defined for Window operation! Moving all data to a single partition, this can cause serious performance degradation.\n",
      "22/11/23 20:36:01 WARN WindowExec: No Partition Defined for Window operation! Moving all data to a single partition, this can cause serious performance degradation.\n",
      "+------------------+----------+------------------+\n",
      "|tag               |length_tag|length_rank       |\n",
      "+------------------+----------+------------------+\n",
      "|visually appealing|18        |0.9120528989081601|\n",
      "|visually appealing|18        |0.9120528989081601|\n",
      "|Guillermo del Toro|18        |0.9120528989081601|\n",
      "|alone in the world|18        |0.9120528989081601|\n",
      "|let there be light|18        |0.9120528989081601|\n",
      "|great use of music|18        |0.9120528989081601|\n",
      "|nonlinear timeline|18        |0.9120528989081601|\n",
      "|computer animation|18        |0.9120528989081601|\n",
      "|Scarlett Johansson|18        |0.9120528989081601|\n",
      "|damsel in distress|18        |0.9120528989081601|\n",
      "|Laurence Fishburne|18        |0.9120528989081601|\n",
      "|visually appealing|18        |0.9120528989081601|\n",
      "|exceptional acting|18        |0.9120528989081601|\n",
      "|jay and silent bob|18        |0.9120528989081601|\n",
      "|friendship of love|18        |0.9120528989081601|\n",
      "|visually appealing|18        |0.9120528989081601|\n",
      "|notable soundtrack|18        |0.9120528989081601|\n",
      "|visually appealing|18        |0.9120528989081601|\n",
      "|Alex de la Iglesia|18        |0.9120528989081601|\n",
      "|alone in the world|18        |0.9120528989081601|\n",
      "+------------------+----------+------------------+\n",
      "only showing top 20 rows\n",
      "\n"
     ]
    }
   ],
   "source": [
    "from pyspark.sql.window import Window\n",
    "\n",
    "wc = Window().orderBy(F.col('length_tag').asc())\n",
    "\n",
    "(s_tags\n",
    " .select(F.col('tag'), F.length(F.col('tag')).alias('length_tag')) \n",
    " .select('*', F.percent_rank().over(wc).alias('length_rank'))\n",
    " .filter(F.col('length_rank') > .9)\n",
    ").show(20, truncate =False)"
   ]
  },
  {
   "cell_type": "code",
   "execution_count": 57,
   "id": "24839e2f",
   "metadata": {},
   "outputs": [
    {
     "name": "stdout",
     "output_type": "stream",
     "text": [
      "+------+-------+--------------------+----------+\n",
      "|userId|movieId|                 tag| timestamp|\n",
      "+------+-------+--------------------+----------+\n",
      "| 12825|    175|Nudity (Full Fron...|1436987982|\n",
      "| 12825|   1676|     Robert Heinlein|1436988505|\n",
      "| 12825|   5237|    military academy|1427144270|\n",
      "| 12825|   7976|Nudity (Full Fron...|1438465726|\n",
      "| 12825|   8361|    Post apocalyptic|1437190741|\n",
      "| 12825|  31408|    Nudity (Topless)|1436988062|\n",
      "| 12825|  44663|          Berlusconi|1378249251|\n",
      "| 12825|  47997|                dumb|1460650564|\n",
      "| 12825|  47997|            dystopia|1460589770|\n",
      "| 12825|  50379|nudity (full fron...|1426540630|\n",
      "| 12825|  59729|              incest|1426540684|\n",
      "| 12825|  61240|       coming of age|1427504623|\n",
      "| 12825|  76093|          friendship|1427143012|\n",
      "| 12825|  92439|       coming of age|1427143713|\n",
      "| 12825|  97913|               geeky|1427143206|\n",
      "| 12825| 115713|artificial intell...|1438555078|\n",
      "| 12825| 117322|              incest|1436988221|\n",
      "+------+-------+--------------------+----------+\n",
      "\n"
     ]
    }
   ],
   "source": [
    "(s_tags.filter(F.col('userId') == 12825)).show()"
   ]
  },
  {
   "cell_type": "code",
   "execution_count": 55,
   "id": "d4b472c1",
   "metadata": {},
   "outputs": [
    {
     "name": "stdout",
     "output_type": "stream",
     "text": [
      "22/11/23 20:58:30 WARN WindowExec: No Partition Defined for Window operation! Moving all data to a single partition, this can cause serious performance degradation.\n",
      "22/11/23 20:58:30 WARN WindowExec: No Partition Defined for Window operation! Moving all data to a single partition, this can cause serious performance degradation.\n",
      "22/11/23 20:58:30 WARN WindowExec: No Partition Defined for Window operation! Moving all data to a single partition, this can cause serious performance degradation.\n",
      "22/11/23 20:58:31 WARN WindowExec: No Partition Defined for Window operation! Moving all data to a single partition, this can cause serious performance degradation.\n",
      "22/11/23 20:58:31 WARN WindowExec: No Partition Defined for Window operation! Moving all data to a single partition, this can cause serious performance degradation.\n",
      "22/11/23 20:58:31 WARN WindowExec: No Partition Defined for Window operation! Moving all data to a single partition, this can cause serious performance degradation.\n",
      "22/11/23 20:58:31 WARN WindowExec: No Partition Defined for Window operation! Moving all data to a single partition, this can cause serious performance degradation.\n",
      "+------+----------+------------------+\n",
      "|userId|user_rates|    activity_ntile|\n",
      "+------+----------+------------------+\n",
      "| 19131|        17|0.9043412417970722|\n",
      "| 23249|        17|0.9043412417970722|\n",
      "| 19810|        17|0.9043412417970722|\n",
      "|  9769|        17|0.9043412417970722|\n",
      "| 39026|        17|0.9043412417970722|\n",
      "| 36770|        17|0.9043412417970722|\n",
      "| 26737|        17|0.9043412417970722|\n",
      "| 10758|        17|0.9043412417970722|\n",
      "| 12825|        17|0.9043412417970722|\n",
      "| 26715|        17|0.9043412417970722|\n",
      "| 26865|        17|0.9043412417970722|\n",
      "|  6373|        17|0.9043412417970722|\n",
      "| 59142|        17|0.9043412417970722|\n",
      "| 79843|        17|0.9043412417970722|\n",
      "| 45036|        17|0.9043412417970722|\n",
      "| 82520|        17|0.9043412417970722|\n",
      "| 46814|        17|0.9043412417970722|\n",
      "| 73750|        17|0.9043412417970722|\n",
      "| 75753|        17|0.9043412417970722|\n",
      "| 73149|        17|0.9043412417970722|\n",
      "+------+----------+------------------+\n",
      "only showing top 20 rows\n",
      "\n"
     ]
    }
   ],
   "source": [
    "(s_tags\n",
    " .groupBy(F.col('userId'))\n",
    " .agg(F.count('*').alias('user_rates'))\n",
    " .select('*', F.percent_rank().over(Window().orderBy(F.col('user_rates').asc())).alias('activity_ntile'))\n",
    " .filter(F.col('activity_ntile') > .9)\n",
    ").show()"
   ]
  },
  {
   "cell_type": "code",
   "execution_count": 50,
   "id": "9a563346",
   "metadata": {},
   "outputs": [
    {
     "name": "stdout",
     "output_type": "stream",
     "text": [
      "+------+-------+-----------------+----------+----+\n",
      "|userId|movieId|              tag| timestamp|rank|\n",
      "+------+-------+-----------------+----------+----+\n",
      "|    20|  96079|        nostalgic|1407930249|   1|\n",
      "|   111| 109487|      Masterpiece|1490443287|   1|\n",
      "|   429| 116821|           satire|1415887689|   1|\n",
      "|   471|    260|           sci-fi|1437883183|   1|\n",
      "|   479|    593|    psychological|1430333622|   1|\n",
      "|   519|  92259|       best actor|1433005248|   1|\n",
      "|   540|   2268|   Jack Nicholson|1154193409|   1|\n",
      "|   836|   6297|Adapted from book|1303360334|   1|\n",
      "|   886|    260|  Science Fiction|1433535242|   1|\n",
      "|   983|   2423|           funny!|1189035751|   1|\n",
      "|   995|    260|       Bad acting|1436699043|   1|\n",
      "|  1025|    296|          intense|1434153098|   1|\n",
      "|  1145|  51080|     Chris Cooper|1187569588|   1|\n",
      "|  1244|   1080|           parody|1272629168|   1|\n",
      "|  1250|   1035|       true story|1223304741|   1|\n",
      "|  1294|    260|   Groundbreaking|1441387838|   1|\n",
      "|  1352|    926|     femme fatale|1466262032|   1|\n",
      "|  1380|  89039|     Brit Marling|1371451954|   1|\n",
      "|  1651|   8266|           Prince|1466897633|   1|\n",
      "|  1785|  51540|        obsession|1280584566|   1|\n",
      "+------+-------+-----------------+----------+----+\n",
      "only showing top 20 rows\n",
      "\n"
     ]
    }
   ],
   "source": [
    "# 1. First Tag population\n",
    "\n",
    "# -> tag.id user_id timestamp\n",
    "#.     tag_1 user_1   t_1_1\n",
    "#.     tag_1 user_2\n",
    "#.     tag_1 user_...\n",
    "\n",
    "#    -> s1, s2, s3, s4, ...\n",
    "# \n",
    "\n",
    "\n",
    "'''\n",
    "s_tags.\n",
    "'''\n",
    "\n",
    "wc = Window().partitionBy(F.col('userId')).orderBy(F.col('timestamp').asc())\n",
    "\n",
    "(s_tags\n",
    " .select('*', F.rank().over(wc).alias('rank'))\n",
    " .filter(F.col('rank') == 1)\n",
    ").show()"
   ]
  },
  {
   "cell_type": "code",
   "execution_count": 49,
   "id": "d9099f43",
   "metadata": {},
   "outputs": [],
   "source": [
    "ratings_s = ratings.sample(fraction=.01, seed=123454321)"
   ]
  },
  {
   "cell_type": "code",
   "execution_count": 9,
   "id": "576cf895",
   "metadata": {},
   "outputs": [
    {
     "name": "stderr",
     "output_type": "stream",
     "text": [
      "                                                                                \r"
     ]
    },
    {
     "data": {
      "text/plain": [
       "260095"
      ]
     },
     "execution_count": 9,
     "metadata": {},
     "output_type": "execute_result"
    }
   ],
   "source": [
    "ratings_s.count()"
   ]
  },
  {
   "cell_type": "code",
   "execution_count": 14,
   "id": "0f90712e",
   "metadata": {},
   "outputs": [
    {
     "name": "stdout",
     "output_type": "stream",
     "text": [
      "22/11/23 20:07:51 WARN package: Truncated the string representation of a plan since it was too large. This behavior can be adjusted by setting 'spark.sql.debug.maxToStringFields'.\n",
      "+-----+-----------------+----------------------+--------+-----------------------+----------------------+----------------+----------------------+------------+--------------------+---------------+--------------------+---------------+-------------------------+--------------------+--------------------+--------------------+--------------------+--------------------+--------+-------+--------------+------+----------+----------------------+----------+------------+--------------------+\n",
      "|color|    director_name|num_critic_for_reviews|duration|director_facebook_likes|actor_3_facebook_likes|    actor_2_name|actor_1_facebook_likes|       gross|              genres|   actor_1_name|         movie_title|num_voted_users|cast_total_facebook_likes|        actor_3_name|facenumber_in_poster|       plot_keywords|     movie_imdb_link|num_user_for_reviews|language|country|content_rating|budget|title_year|actor_2_facebook_likes|imdb_score|aspect_ratio|movie_facebook_likes|\n",
      "+-----+-----------------+----------------------+--------+-----------------------+----------------------+----------------+----------------------+------------+--------------------+---------------+--------------------+---------------+-------------------------+--------------------+--------------------+--------------------+--------------------+--------------------+--------+-------+--------------+------+----------+----------------------+----------+------------+--------------------+\n",
      "|Color|    James Cameron|                 723.0|   178.0|                    0.0|                 855.0|Joel David Moore|                1000.0|7.60505847E8|Action|Adventure|...|    CCH Pounder|              Avatar|         886204|                     4834|           Wes Studi|                 0.0|avatar|future|mar...|http://www.imdb.c...|              3054.0| English|    USA|         PG-13|2.37E8|    2009.0|                 936.0|       7.9|        1.78|               33000|\n",
      "|Color|   Gore Verbinski|                 302.0|   169.0|                  563.0|                1000.0|   Orlando Bloom|               40000.0|3.09404152E8|Action|Adventure|...|    Johnny Depp|Pirates of the Ca...|         471220|                    48350|      Jack Davenport|                 0.0|goddess|marriage ...|http://www.imdb.c...|              1238.0| English|    USA|         PG-13| 3.0E8|    2007.0|                5000.0|       7.1|        2.35|                   0|\n",
      "|Color|       Sam Mendes|                 602.0|   148.0|                    0.0|                 161.0|    Rory Kinnear|               11000.0|2.00074175E8|Action|Adventure|...|Christoph Waltz|             Spectre|         275868|                    11700|    Stephanie Sigman|                 1.0|bomb|espionage|se...|http://www.imdb.c...|               994.0| English|     UK|         PG-13|2.45E8|    2015.0|                 393.0|       6.8|        2.35|               85000|\n",
      "|Color|Christopher Nolan|                 813.0|   164.0|                22000.0|               23000.0|  Christian Bale|               27000.0|4.48130642E8|     Action|Thriller|      Tom Hardy|The Dark Knight R...|        1144337|                   106759|Joseph Gordon-Levitt|                 0.0|deception|impriso...|http://www.imdb.c...|              2701.0| English|    USA|         PG-13| 2.5E8|    2012.0|               23000.0|       8.5|        2.35|              164000|\n",
      "| null|      Doug Walker|                  null|    null|                  131.0|                  null|      Rob Walker|                 131.0|        null|         Documentary|    Doug Walker|Star Wars: Episod...|              8|                      143|                null|                 0.0|                null|http://www.imdb.c...|                null|    null|   null|          null|  null|      null|                  12.0|       7.1|        null|                   0|\n",
      "+-----+-----------------+----------------------+--------+-----------------------+----------------------+----------------+----------------------+------------+--------------------+---------------+--------------------+---------------+-------------------------+--------------------+--------------------+--------------------+--------------------+--------------------+--------+-------+--------------+------+----------+----------------------+----------+------------+--------------------+\n",
      "only showing top 5 rows\n",
      "\n"
     ]
    }
   ],
   "source": [
    "movies.show(5)"
   ]
  },
  {
   "cell_type": "code",
   "execution_count": 15,
   "id": "1c65ac58",
   "metadata": {},
   "outputs": [
    {
     "ename": "AnalysisException",
     "evalue": "Column 'movieId' does not exist. Did you mean one of the following? [budget, color, country, genres, movie_title, gross, duration, language, imdb_score, movie_imdb_link, title_year, plot_keywords, actor_1_name, actor_2_name, actor_3_name, aspect_ratio, content_rating, director_name, num_voted_users, movie_facebook_likes, num_user_for_reviews, num_critic_for_reviews, facenumber_in_poster, actor_1_facebook_likes, actor_2_facebook_likes, actor_3_facebook_likes, director_facebook_likes, cast_total_facebook_likes];\n'Project ['movieId, director_name#18]\n+- Relation [color#17,director_name#18,num_critic_for_reviews#19,duration#20,director_facebook_likes#21,actor_3_facebook_likes#22,actor_2_name#23,actor_1_facebook_likes#24,gross#25,genres#26,actor_1_name#27,movie_title#28,num_voted_users#29,cast_total_facebook_likes#30,actor_3_name#31,facenumber_in_poster#32,plot_keywords#33,movie_imdb_link#34,num_user_for_reviews#35,language#36,country#37,content_rating#38,budget#39,title_year#40,... 4 more fields] csv\n",
     "output_type": "error",
     "traceback": [
      "\u001b[0;31m---------------------------------------------------------------------------\u001b[0m",
      "\u001b[0;31mAnalysisException\u001b[0m                         Traceback (most recent call last)",
      "Input \u001b[0;32mIn [15]\u001b[0m, in \u001b[0;36m<cell line: 8>\u001b[0;34m()\u001b[0m\n\u001b[1;32m      5\u001b[0m p_var \u001b[38;5;241m=\u001b[39m \u001b[38;5;124m'\u001b[39m\u001b[38;5;124mpercentage_users_rated_twice_same_director\u001b[39m\u001b[38;5;124m'\u001b[39m\n\u001b[1;32m      6\u001b[0m t_var \u001b[38;5;241m=\u001b[39m \u001b[38;5;124m'\u001b[39m\u001b[38;5;124mtotal_users_rated_twice_same_director\u001b[39m\u001b[38;5;124m'\u001b[39m\n\u001b[1;32m      8\u001b[0m (ratings_s\n\u001b[0;32m----> 9\u001b[0m  \u001b[38;5;241m.\u001b[39mjoin(\u001b[43mmovies\u001b[49m\u001b[38;5;241;43m.\u001b[39;49m\u001b[43mselect\u001b[49m\u001b[43m(\u001b[49m\u001b[38;5;124;43m'\u001b[39;49m\u001b[38;5;124;43mmovieId\u001b[39;49m\u001b[38;5;124;43m'\u001b[39;49m\u001b[43m,\u001b[49m\u001b[43m \u001b[49m\u001b[38;5;124;43m'\u001b[39;49m\u001b[38;5;124;43mdirector_name\u001b[39;49m\u001b[38;5;124;43m'\u001b[39;49m\u001b[43m)\u001b[49m, on\u001b[38;5;241m=\u001b[39m\u001b[38;5;124m'\u001b[39m\u001b[38;5;124mmovieId\u001b[39m\u001b[38;5;124m'\u001b[39m, how\u001b[38;5;241m=\u001b[39m\u001b[38;5;124m'\u001b[39m\u001b[38;5;124mleft\u001b[39m\u001b[38;5;124m'\u001b[39m)\n\u001b[1;32m     10\u001b[0m  \u001b[38;5;241m.\u001b[39mgroupBy(F\u001b[38;5;241m.\u001b[39mcol(\u001b[38;5;124m'\u001b[39m\u001b[38;5;124muserId\u001b[39m\u001b[38;5;124m'\u001b[39m), F\u001b[38;5;241m.\u001b[39mcol(\u001b[38;5;124m'\u001b[39m\u001b[38;5;124mdirector_name\u001b[39m\u001b[38;5;124m'\u001b[39m))\n\u001b[1;32m     11\u001b[0m  \u001b[38;5;241m.\u001b[39magg(F\u001b[38;5;241m.\u001b[39mcount(\u001b[38;5;124m'\u001b[39m\u001b[38;5;124m*\u001b[39m\u001b[38;5;124m'\u001b[39m)\u001b[38;5;241m.\u001b[39malias(\u001b[38;5;124m'\u001b[39m\u001b[38;5;124mduplicates\u001b[39m\u001b[38;5;124m'\u001b[39m))\n\u001b[1;32m     12\u001b[0m  \u001b[38;5;241m.\u001b[39mselect(\u001b[38;5;124m'\u001b[39m\u001b[38;5;124m*\u001b[39m\u001b[38;5;124m'\u001b[39m, (F\u001b[38;5;241m.\u001b[39mcol(\u001b[38;5;124m'\u001b[39m\u001b[38;5;124mduplicates\u001b[39m\u001b[38;5;124m'\u001b[39m) \u001b[38;5;241m>\u001b[39m \u001b[38;5;241m1\u001b[39m)\u001b[38;5;241m.\u001b[39mcast(\u001b[38;5;124m'\u001b[39m\u001b[38;5;124mint\u001b[39m\u001b[38;5;124m'\u001b[39m)\u001b[38;5;241m.\u001b[39malias(\u001b[38;5;124m'\u001b[39m\u001b[38;5;124mis_duplicate\u001b[39m\u001b[38;5;124m'\u001b[39m))\n\u001b[1;32m     13\u001b[0m  \u001b[38;5;241m.\u001b[39mselectExpr(\u001b[38;5;124mf\u001b[39m\u001b[38;5;124m'\u001b[39m\u001b[38;5;124mavg(is_duplicate) as \u001b[39m\u001b[38;5;132;01m{\u001b[39;00mp_var\u001b[38;5;132;01m}\u001b[39;00m\u001b[38;5;124m'\u001b[39m,\u001b[38;5;124mf\u001b[39m\u001b[38;5;124m'\u001b[39m\u001b[38;5;124msum(is_duplicate) as \u001b[39m\u001b[38;5;132;01m{\u001b[39;00mt_var\u001b[38;5;132;01m}\u001b[39;00m\u001b[38;5;124m'\u001b[39m)\n\u001b[1;32m     14\u001b[0m )\u001b[38;5;241m.\u001b[39mshow()\n",
      "File \u001b[0;32m/usr/local/Cellar/apache-spark/3.3.1/libexec/python/pyspark/sql/dataframe.py:2023\u001b[0m, in \u001b[0;36mDataFrame.select\u001b[0;34m(self, *cols)\u001b[0m\n\u001b[1;32m   2002\u001b[0m \u001b[38;5;28;01mdef\u001b[39;00m \u001b[38;5;21mselect\u001b[39m(\u001b[38;5;28mself\u001b[39m, \u001b[38;5;241m*\u001b[39mcols: \u001b[38;5;124m\"\u001b[39m\u001b[38;5;124mColumnOrName\u001b[39m\u001b[38;5;124m\"\u001b[39m) \u001b[38;5;241m-\u001b[39m\u001b[38;5;241m>\u001b[39m \u001b[38;5;124m\"\u001b[39m\u001b[38;5;124mDataFrame\u001b[39m\u001b[38;5;124m\"\u001b[39m:  \u001b[38;5;66;03m# type: ignore[misc]\u001b[39;00m\n\u001b[1;32m   2003\u001b[0m     \u001b[38;5;124;03m\"\"\"Projects a set of expressions and returns a new :class:`DataFrame`.\u001b[39;00m\n\u001b[1;32m   2004\u001b[0m \n\u001b[1;32m   2005\u001b[0m \u001b[38;5;124;03m    .. versionadded:: 1.3.0\u001b[39;00m\n\u001b[0;32m   (...)\u001b[0m\n\u001b[1;32m   2021\u001b[0m \u001b[38;5;124;03m    [Row(name='Alice', age=12), Row(name='Bob', age=15)]\u001b[39;00m\n\u001b[1;32m   2022\u001b[0m \u001b[38;5;124;03m    \"\"\"\u001b[39;00m\n\u001b[0;32m-> 2023\u001b[0m     jdf \u001b[38;5;241m=\u001b[39m \u001b[38;5;28;43mself\u001b[39;49m\u001b[38;5;241;43m.\u001b[39;49m\u001b[43m_jdf\u001b[49m\u001b[38;5;241;43m.\u001b[39;49m\u001b[43mselect\u001b[49m\u001b[43m(\u001b[49m\u001b[38;5;28;43mself\u001b[39;49m\u001b[38;5;241;43m.\u001b[39;49m\u001b[43m_jcols\u001b[49m\u001b[43m(\u001b[49m\u001b[38;5;241;43m*\u001b[39;49m\u001b[43mcols\u001b[49m\u001b[43m)\u001b[49m\u001b[43m)\u001b[49m\n\u001b[1;32m   2024\u001b[0m     \u001b[38;5;28;01mreturn\u001b[39;00m DataFrame(jdf, \u001b[38;5;28mself\u001b[39m\u001b[38;5;241m.\u001b[39msparkSession)\n",
      "File \u001b[0;32m/usr/local/Cellar/apache-spark/3.3.1/libexec/python/lib/py4j-0.10.9.5-src.zip/py4j/java_gateway.py:1321\u001b[0m, in \u001b[0;36mJavaMember.__call__\u001b[0;34m(self, *args)\u001b[0m\n\u001b[1;32m   1315\u001b[0m command \u001b[38;5;241m=\u001b[39m proto\u001b[38;5;241m.\u001b[39mCALL_COMMAND_NAME \u001b[38;5;241m+\u001b[39m\\\n\u001b[1;32m   1316\u001b[0m     \u001b[38;5;28mself\u001b[39m\u001b[38;5;241m.\u001b[39mcommand_header \u001b[38;5;241m+\u001b[39m\\\n\u001b[1;32m   1317\u001b[0m     args_command \u001b[38;5;241m+\u001b[39m\\\n\u001b[1;32m   1318\u001b[0m     proto\u001b[38;5;241m.\u001b[39mEND_COMMAND_PART\n\u001b[1;32m   1320\u001b[0m answer \u001b[38;5;241m=\u001b[39m \u001b[38;5;28mself\u001b[39m\u001b[38;5;241m.\u001b[39mgateway_client\u001b[38;5;241m.\u001b[39msend_command(command)\n\u001b[0;32m-> 1321\u001b[0m return_value \u001b[38;5;241m=\u001b[39m \u001b[43mget_return_value\u001b[49m\u001b[43m(\u001b[49m\n\u001b[1;32m   1322\u001b[0m \u001b[43m    \u001b[49m\u001b[43manswer\u001b[49m\u001b[43m,\u001b[49m\u001b[43m \u001b[49m\u001b[38;5;28;43mself\u001b[39;49m\u001b[38;5;241;43m.\u001b[39;49m\u001b[43mgateway_client\u001b[49m\u001b[43m,\u001b[49m\u001b[43m \u001b[49m\u001b[38;5;28;43mself\u001b[39;49m\u001b[38;5;241;43m.\u001b[39;49m\u001b[43mtarget_id\u001b[49m\u001b[43m,\u001b[49m\u001b[43m \u001b[49m\u001b[38;5;28;43mself\u001b[39;49m\u001b[38;5;241;43m.\u001b[39;49m\u001b[43mname\u001b[49m\u001b[43m)\u001b[49m\n\u001b[1;32m   1324\u001b[0m \u001b[38;5;28;01mfor\u001b[39;00m temp_arg \u001b[38;5;129;01min\u001b[39;00m temp_args:\n\u001b[1;32m   1325\u001b[0m     temp_arg\u001b[38;5;241m.\u001b[39m_detach()\n",
      "File \u001b[0;32m/usr/local/Cellar/apache-spark/3.3.1/libexec/python/pyspark/sql/utils.py:196\u001b[0m, in \u001b[0;36mcapture_sql_exception.<locals>.deco\u001b[0;34m(*a, **kw)\u001b[0m\n\u001b[1;32m    192\u001b[0m converted \u001b[38;5;241m=\u001b[39m convert_exception(e\u001b[38;5;241m.\u001b[39mjava_exception)\n\u001b[1;32m    193\u001b[0m \u001b[38;5;28;01mif\u001b[39;00m \u001b[38;5;129;01mnot\u001b[39;00m \u001b[38;5;28misinstance\u001b[39m(converted, UnknownException):\n\u001b[1;32m    194\u001b[0m     \u001b[38;5;66;03m# Hide where the exception came from that shows a non-Pythonic\u001b[39;00m\n\u001b[1;32m    195\u001b[0m     \u001b[38;5;66;03m# JVM exception message.\u001b[39;00m\n\u001b[0;32m--> 196\u001b[0m     \u001b[38;5;28;01mraise\u001b[39;00m converted \u001b[38;5;28;01mfrom\u001b[39;00m \u001b[38;5;28mNone\u001b[39m\n\u001b[1;32m    197\u001b[0m \u001b[38;5;28;01melse\u001b[39;00m:\n\u001b[1;32m    198\u001b[0m     \u001b[38;5;28;01mraise\u001b[39;00m\n",
      "\u001b[0;31mAnalysisException\u001b[0m: Column 'movieId' does not exist. Did you mean one of the following? [budget, color, country, genres, movie_title, gross, duration, language, imdb_score, movie_imdb_link, title_year, plot_keywords, actor_1_name, actor_2_name, actor_3_name, aspect_ratio, content_rating, director_name, num_voted_users, movie_facebook_likes, num_user_for_reviews, num_critic_for_reviews, facenumber_in_poster, actor_1_facebook_likes, actor_2_facebook_likes, actor_3_facebook_likes, director_facebook_likes, cast_total_facebook_likes];\n'Project ['movieId, director_name#18]\n+- Relation [color#17,director_name#18,num_critic_for_reviews#19,duration#20,director_facebook_likes#21,actor_3_facebook_likes#22,actor_2_name#23,actor_1_facebook_likes#24,gross#25,genres#26,actor_1_name#27,movie_title#28,num_voted_users#29,cast_total_facebook_likes#30,actor_3_name#31,facenumber_in_poster#32,plot_keywords#33,movie_imdb_link#34,num_user_for_reviews#35,language#36,country#37,content_rating#38,budget#39,title_year#40,... 4 more fields] csv\n"
     ]
    }
   ],
   "source": [
    "# What's the largest time between rates from the same user to a given movie. \n",
    "#\n",
    "import pyspark.sql.functions as F\n",
    "\n",
    "p_var = 'percentage_users_rated_twice_same_director'\n",
    "t_var = 'total_users_rated_twice_same_director'\n",
    "\n",
    "(ratings_s\n",
    " .join(movies.select('movieId', 'director_name'), on='movieId', how='left')\n",
    " .groupBy(F.col('userId'), F.col('director_name'))\n",
    " .agg(F.count('*').alias('duplicates'))\n",
    " .select('*', (F.col('duplicates') > 1).cast('int').alias('is_duplicate'))\n",
    " .selectExpr(f'avg(is_duplicate) as {p_var}',f'sum(is_duplicate) as {t_var}')\n",
    ").show()"
   ]
  },
  {
   "cell_type": "code",
   "execution_count": null,
   "id": "9f681589",
   "metadata": {},
   "outputs": [],
   "source": []
  }
 ],
 "metadata": {
  "kernelspec": {
   "display_name": "Python 3 (ipykernel)",
   "language": "python",
   "name": "python3"
  },
  "language_info": {
   "codemirror_mode": {
    "name": "ipython",
    "version": 3
   },
   "file_extension": ".py",
   "mimetype": "text/x-python",
   "name": "python",
   "nbconvert_exporter": "python",
   "pygments_lexer": "ipython3",
   "version": "3.9.13"
  }
 },
 "nbformat": 4,
 "nbformat_minor": 5
}
